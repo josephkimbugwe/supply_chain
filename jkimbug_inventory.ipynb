{
 "cells": [
  {
   "cell_type": "code",
   "execution_count": 1,
   "id": "05626e14-753e-40bb-92c4-12da28554a77",
   "metadata": {},
   "outputs": [],
   "source": [
    "import numpy as np"
   ]
  },
  {
   "cell_type": "markdown",
   "id": "ef717045-82df-4688-b88a-69d1e14e5cb1",
   "metadata": {},
   "source": [
    "#### 1"
   ]
  },
  {
   "cell_type": "code",
   "execution_count": 6,
   "id": "c7cd6c2c-2dd8-4e44-afc3-897b3cb98d13",
   "metadata": {},
   "outputs": [
    {
     "name": "stdout",
     "output_type": "stream",
     "text": [
      "Annual Cost: $3073.9153\n"
     ]
    }
   ],
   "source": [
    "specific_cost=np.array([10,20,25,25])\n",
    "annual_demand=np.array([1000,300,100,50])\n",
    "unit_costs=np.array([50,60,30,30])\n",
    "holding_cost_rate=0.2\n",
    "holding_costs=holding_cost_rate*unit_costs\n",
    "EOQ=np.sqrt((2*annual_demand*(100+specific_cost))/holding_costs)\n",
    "annual_cost=(annual_demand/EOQ)*(100+specific_cost)+(EOQ/2)*holding_costs\n",
    "print(f'Annual Cost: ${sum(annual_cost):.4f}')"
   ]
  },
  {
   "cell_type": "markdown",
   "id": "8fca8a18-cad1-4a46-9f69-5a567699c600",
   "metadata": {},
   "source": [
    "#### 2"
   ]
  },
  {
   "cell_type": "code",
   "execution_count": 5,
   "id": "6d86a517-7165-4c63-8e84-5635e9af2482",
   "metadata": {},
   "outputs": [
    {
     "name": "stdout",
     "output_type": "stream",
     "text": [
      "Annual Cost: $2284.7319\n"
     ]
    }
   ],
   "source": [
    "common_cost=100\n",
    "specific_cost=np.array([10,20,25,25])\n",
    "products={\n",
    "    \"1\":{\"demand\":1000,\"holding_cost_rate\":0.2,\"unit_cost\":50},\n",
    "    \"2\":{\"demand\":300,\"holding_cost_rate\":0.2,\"unit_cost\":60},\n",
    "    \"3\":{\"demand\":100,\"holding_cost_rate\":0.2,\"unit_cost\":30},\n",
    "    \"4\":{\"demand\":50,\"holding_cost_rate\":0.2,\"unit_cost\":30}}\n",
    "nominator=0\n",
    "for attribute in products.values():\n",
    "    nominator += attribute[\"demand\"] * attribute[\"holding_cost_rate\"] * attribute[\"unit_cost\"]\n",
    "for attribute in products.values():\n",
    "    attribute[\"Optimal Order Size\"]=attribute[\"demand\"]/np.sqrt(nominator/(2*(common_cost+sum(specific_cost))))\n",
    "    attribute[\"Annual Holding Cost\"]=attribute[\"Optimal Order Size\"]*attribute[\"holding_cost_rate\"]*attribute[\"unit_cost\"]/2  \n",
    "annual_order_cost_aggregation=np.sqrt(nominator/(2*(common_cost+sum(specific_cost))))*(common_cost+sum(specific_cost))\n",
    "total_annual_cost_aggregation=annual_order_cost_aggregation+sum(attribute[\"Annual Holding Cost\"]for attribute in products.values())\n",
    "for attribute in products.values():\n",
    "    attribute[\"Order Frequency\"]=np.sqrt(nominator/(2*(common_cost+sum(specific_cost))))\n",
    "print(f'Annual Cost: ${total_annual_cost_aggregation:.4f}')"
   ]
  },
  {
   "cell_type": "markdown",
   "id": "8d5e0ad7-dadf-4dd2-8f81-0e628f38bf5f",
   "metadata": {},
   "source": [
    "#### 3"
   ]
  },
  {
   "cell_type": "code",
   "execution_count": null,
   "id": "a445ad94-e8c8-4a88-8e33-37c1f6cb99cf",
   "metadata": {},
   "outputs": [],
   "source": [
    "specific_cost=np.array([10,20,25,25])\n",
    "annual_demand=np.array([1000,300,100,50])\n",
    "unit_costs=np.array([50,60,30,30])\n",
    "holding_cost_rate=0.2\n",
    "holding_costs=holding_cost_rate*unit_costs\n",
    "EOQ=np.sqrt((2*annual_demand*(100+specific_cost))/holding_costs)\n",
    "#annual_cost=(annual_demand/EOQ)*(100+specific_cost)+(EOQ/2)*holding_costs\n",
    "#print(f'Annual Cost: ${sum(annual_cost):.4f}')\n"
   ]
  },
  {
   "cell_type": "code",
   "execution_count": null,
   "id": "527626fd-54e2-439d-aafa-75f8183d850d",
   "metadata": {},
   "outputs": [],
   "source": []
  },
  {
   "cell_type": "code",
   "execution_count": null,
   "id": "992bdc03-d3df-45a5-bf48-582dcd1ca5b8",
   "metadata": {},
   "outputs": [],
   "source": []
  }
 ],
 "metadata": {
  "kernelspec": {
   "display_name": "Python 3 (ipykernel)",
   "language": "python",
   "name": "python3"
  },
  "language_info": {
   "codemirror_mode": {
    "name": "ipython",
    "version": 3
   },
   "file_extension": ".py",
   "mimetype": "text/x-python",
   "name": "python",
   "nbconvert_exporter": "python",
   "pygments_lexer": "ipython3",
   "version": "3.11.5"
  }
 },
 "nbformat": 4,
 "nbformat_minor": 5
}
